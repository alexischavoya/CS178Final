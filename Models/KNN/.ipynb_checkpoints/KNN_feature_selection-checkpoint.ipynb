{
 "cells": [
  {
   "cell_type": "code",
   "execution_count": 1,
   "metadata": {},
   "outputs": [],
   "source": [
    "import numpy as np\n",
    "\n",
    "import mltools as ml\n",
    "import sys\n",
    "sys.path.append('code')\n",
    "\n",
    "import matplotlib.pyplot as plt \n",
    "from sklearn import preprocessing\n",
    "from tqdm import tqdm"
   ]
  },
  {
   "cell_type": "code",
   "execution_count": 2,
   "metadata": {},
   "outputs": [],
   "source": [
    "np.random.seed(0)\n",
    "X = np.genfromtxt('data/X_train.txt', delimiter=',')\n",
    "X=preprocessing.normalize(X,norm=\"max\",axis=0)\n",
    "Y = np.genfromtxt('data/Y_train.txt', delimiter=',')\n",
    "X,Y = ml.shuffleData(X,Y)\n",
    "data = Xtr,Xte,Ytr,Yte = ml.splitData(X,Y,0.75) #75%training and 25% testing"
   ]
  },
  {
   "cell_type": "code",
   "execution_count": 3,
   "metadata": {},
   "outputs": [],
   "source": [
    "best_feature_pool = []\n",
    "out_file = open(\"feature_select/selected_feature_normalized.txt\",'w')\n",
    "score_file = open(\"feature_select/feature_score_normalized.txt\",'w')"
   ]
  },
  {
   "cell_type": "code",
   "execution_count": 4,
   "metadata": {},
   "outputs": [
    {
     "name": "stderr",
     "output_type": "stream",
     "text": [
      "100%|██████████| 107/107 [00:59<00:00,  1.79it/s]\n"
     ]
    }
   ],
   "source": [
    "feature_pool = np.array([None]*X.shape[1])\n",
    "unselected_features = [i for i in range(Xtr.shape[1])]\n",
    "for feature in tqdm(range(Xtr.shape[1])):\n",
    "    knn = ml.knn.knnClassify()\n",
    "    knn.train(Xtr[:,feature].reshape(Xtr.shape[0],1),Ytr)\n",
    "    knn.k = 1\n",
    "    feature_pool[feature] = [feature,knn.auc(Xte[:,feature].reshape(Xte.shape[0],1),Yte)]\n",
    "best_feature_pool.append(max(feature_pool,key=lambda a:a[1])[0])\n",
    "out_file.write(str(best_feature_pool[-1])+\"\\n\")\n",
    "out_file.flush()\n",
    "score_file.write(str(best_feature_pool) + \" , \" +str(max(feature_pool,key=lambda a:a[1])[1])+\"\\n\")\n",
    "score_file.flush()\n",
    "unselected_features.remove(best_feature_pool[-1])"
   ]
  },
  {
   "cell_type": "code",
   "execution_count": null,
   "metadata": {},
   "outputs": [
    {
     "name": "stderr",
     "output_type": "stream",
     "text": [
      "\r",
      "  0%|          | 0/106 [00:00<?, ?it/s]"
     ]
    },
    {
     "name": "stdout",
     "output_type": "stream",
     "text": [
      "now selecting #2 best features\n"
     ]
    },
    {
     "name": "stderr",
     "output_type": "stream",
     "text": [
      "100%|██████████| 106/106 [01:35<00:00,  1.11it/s]\n",
      "  0%|          | 0/105 [00:00<?, ?it/s]"
     ]
    },
    {
     "name": "stdout",
     "output_type": "stream",
     "text": [
      "current best score:  0.6276256277760037\n",
      "now selecting #3 best features\n"
     ]
    },
    {
     "name": "stderr",
     "output_type": "stream",
     "text": [
      "  9%|▊         | 9/105 [00:10<01:50,  1.15s/it]"
     ]
    }
   ],
   "source": [
    "for i in range(106):\n",
    "    print(\"now selecting #{} best features\".format(i+2))\n",
    "    feature_pool = []\n",
    "    for feature in tqdm(unselected_features):\n",
    "        knn = ml.knn.knnClassify()\n",
    "        knn.train(Xtr[:,best_feature_pool+[feature]],Ytr)\n",
    "        knn.k = 1\n",
    "        feature_pool.append([feature,knn.auc(Xte[:,best_feature_pool+[feature]],Yte)])\n",
    "    best_feature_pool.append(max(feature_pool,key=lambda a:a[1])[0])\n",
    "    print(\"current best score: \",max(feature_pool,key=lambda a:a[1])[1])\n",
    "    out_file.write(str(best_feature_pool[-1])+\"\\n\")\n",
    "    out_file.flush()\n",
    "    score_file.write(str(best_feature_pool) + \" , \" +str(max(feature_pool,key=lambda a:a[1])[1])+\"\\n\")\n",
    "    score_file.flush()\n",
    "    unselected_features.remove(best_feature_pool[-1])"
   ]
  },
  {
   "cell_type": "code",
   "execution_count": null,
   "metadata": {},
   "outputs": [],
   "source": [
    "out_file.close()\n",
    "score_file.close()"
   ]
  },
  {
   "cell_type": "code",
   "execution_count": null,
   "metadata": {},
   "outputs": [],
   "source": [
    "sorted_features = []\n",
    "for line in open('feature_select/feature_score_normalized.txt'):\n",
    "    sorted_features.append([eval(i) for i in line.split(sep=\",\")])"
   ]
  },
  {
   "cell_type": "code",
   "execution_count": null,
   "metadata": {},
   "outputs": [],
   "source": [
    "score = [i[-1] for i in sorted_features]"
   ]
  },
  {
   "cell_type": "code",
   "execution_count": null,
   "metadata": {},
   "outputs": [],
   "source": [
    "plt.plot(range(1,108),score,label=\"testing auc\")\n",
    "plt.title(\"Number of features used vs auc score with normalize\")\n",
    "plt.legend()\n",
    "plt.xlabel(\"number of features used\")\n",
    "plt.ylabel(\"auc score\")\n",
    "plt.savefig('knn_output/feature_selection_normalized.png')\n",
    "plt.show()"
   ]
  },
  {
   "cell_type": "code",
   "execution_count": null,
   "metadata": {},
   "outputs": [],
   "source": [
    "score_i = [i for i in enumerate(score)]"
   ]
  },
  {
   "cell_type": "code",
   "execution_count": null,
   "metadata": {},
   "outputs": [],
   "source": [
    "print(\"the optimal number of features would be {}\".format(max(score_i,key=lambda a:a[1])))"
   ]
  },
  {
   "cell_type": "code",
   "execution_count": null,
   "metadata": {},
   "outputs": [],
   "source": [
    "best_features = sorted_features[29][:-1]"
   ]
  },
  {
   "cell_type": "code",
   "execution_count": null,
   "metadata": {},
   "outputs": [],
   "source": [
    "naive_knn = ml.knn.knnClassify()\n",
    "naive_knn.train(Xtr[:,best_features],Ytr)\n",
    "knn_tr_auc = []\n",
    "knn_te_auc = []\n",
    "k_values = [2**i for i in range(10)]\n",
    "for k in tqdm(k_values):\n",
    "    naive_knn.K = k\n",
    "    knn_tr_auc.append(naive_knn.auc(Xtr[:,best_features],Ytr))\n",
    "    knn_te_auc.append(naive_knn.auc(Xte[:,best_features],Yte))"
   ]
  },
  {
   "cell_type": "code",
   "execution_count": null,
   "metadata": {},
   "outputs": [],
   "source": [
    "plt.plot(range(10),knn_tr_auc, label= \"training auc\")\n",
    "plt.plot(range(10),knn_te_auc, label= \"testing auc\")\n",
    "plt.title(\"k value vs error rate on selected features with normalization\")\n",
    "plt.xlabel(\"K value = 2**x\")\n",
    "plt.ylabel(\"auc\")\n",
    "plt.savefig('selected_feature_error_normalize.png')\n",
    "plt.legend()\n",
    "plt.show()"
   ]
  },
  {
   "cell_type": "code",
   "execution_count": null,
   "metadata": {},
   "outputs": [],
   "source": [
    "max(enumerate(knn_te_auc),key=lambda a:a[1])"
   ]
  },
  {
   "cell_type": "code",
   "execution_count": null,
   "metadata": {},
   "outputs": [],
   "source": [
    "def generating_output(learner,filename =\"output\",feature_space = [i for i in range(X.shape[1])], normalize=True):\n",
    "    Xte = np.genfromtxt('data/X_test.txt', delimiter=',')\n",
    "    Xte = Xte[:,feature_space]\n",
    "    if normalize:\n",
    "        print(\"normalizing data\")\n",
    "        Xte = preprocessing.normalize(Xte,norm=\"max\",axis=0)\n",
    "    Yte = np.vstack((np.arange(Xte.shape[0]), learner.predictSoft(Xte)[:,1])).T\n",
    "    np.savetxt(\"{}.txt\".format(filename),Yte,'%d, %.2f',header='Id,Predicted',comments='',delimiter=',')"
   ]
  },
  {
   "cell_type": "code",
   "execution_count": null,
   "metadata": {},
   "outputs": [],
   "source": [
    "# naive_knn.K=16"
   ]
  },
  {
   "cell_type": "code",
   "execution_count": null,
   "metadata": {},
   "outputs": [],
   "source": [
    "# naive_knn.auc(Xte[:,best_features],Yte)"
   ]
  },
  {
   "cell_type": "code",
   "execution_count": null,
   "metadata": {},
   "outputs": [],
   "source": [
    "X"
   ]
  },
  {
   "cell_type": "code",
   "execution_count": null,
   "metadata": {},
   "outputs": [],
   "source": []
  }
 ],
 "metadata": {
  "kernelspec": {
   "display_name": "Python 3",
   "language": "python",
   "name": "python3"
  },
  "language_info": {
   "codemirror_mode": {
    "name": "ipython",
    "version": 3
   },
   "file_extension": ".py",
   "mimetype": "text/x-python",
   "name": "python",
   "nbconvert_exporter": "python",
   "pygments_lexer": "ipython3",
   "version": "3.8.3"
  }
 },
 "nbformat": 4,
 "nbformat_minor": 4
}
