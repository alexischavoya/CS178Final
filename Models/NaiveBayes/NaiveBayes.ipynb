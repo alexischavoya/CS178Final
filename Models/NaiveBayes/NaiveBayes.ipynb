{
 "cells": [
  {
   "cell_type": "markdown",
   "metadata": {},
   "source": [
    "<div style=\"text-align: right\"> Eric Huang\t\t14781088</div>\n",
    "<div style=\"text-align: right\"> Mauricio Lomeli 23329506</div>\n",
    "<div style=\"text-align: right\"> Alexis Chavoya\t55614050</div>"
   ]
  },
  {
   "cell_type": "markdown",
   "metadata": {},
   "source": [
    "## CS 178: Machine Learning & Data Mining: Fall 2020\n",
    "# Naive Bayes\n",
    "#### Due Date: , December 11, 2020\n",
    "\n",
    "<p>For each model, a paragraph or two describing: what features you gave it (raw inputs, selected inputs, non-linear feature expansions, etc.); how was it trained (learning algorithm and software source); and key hyperparameter settings (plus your approach to choosing those settings)</p>\n"
   ]
  },
  {
   "cell_type": "code",
   "execution_count": 127,
   "metadata": {
    "pycharm": {
     "name": "#%%\n"
    }
   },
   "outputs": [],
   "source": [
    "import numpy as np\n",
    "import mltools as ml\n",
    "import matplotlib.pyplot as plt\n",
    "np.random.seed(0)\n",
    "\n",
    "THRESHHOLD = .9"
   ]
  },
  {
   "cell_type": "markdown",
   "metadata": {},
   "source": [
    "## Features"
   ]
  },
  {
   "cell_type": "markdown",
   "metadata": {},
   "source": [
    "These are the features we gave (raw inputs, selected inputs, nonlinear feature expansions, etc.)"
   ]
  },
  {
   "cell_type": "code",
   "execution_count": 134,
   "metadata": {
    "pycharm": {
     "name": "#%%\n"
    }
   },
   "outputs": [
    {
     "name": "stdout",
     "output_type": "stream",
     "text": [
      "(7423, 107)\n",
      "7423\n"
     ]
    }
   ],
   "source": [
    "X = np.genfromtxt(\"data/X_train.txt\",delimiter=',')\n",
    "Y = np.genfromtxt(\"data/Y_train.txt\",delimiter=',')\n",
    "X, Y = ml.shuffleData(X,Y)\n",
    "\n",
    "print(X.shape)\n",
    "print(len(X))\n",
    "\n",
    "X0 = X[Y==0, :]\n",
    "X1 = X[Y==1, :]\n",
    "\n",
    "def isContinuous(vect):\n",
    "    return sum(1 for x in vect if int(x) != x)/len(vect) > THRESHHOLD\n",
    "\n",
    "def analysis(data, indices=None):\n",
    "    # Find what features are continuous for X0\n",
    "    if not indices:\n",
    "        feature_m  = data[:, :].T\n",
    "        indices    = [i for i, feature in enumerate(feature_m) if isContinuous(feature)]\n",
    "    print(indices)\n",
    "\n",
    "    continuous = data[:, indices].T\n",
    "    for i, feature in enumerate(continuous):\n",
    "        # Printing some data\n",
    "        minimum = np.min(feature)\n",
    "        maximum = np.max(feature)\n",
    "        mean    = np.mean(feature)\n",
    "        stddev  = np.std(feature)\n",
    "        print(f\"\\tindex   = {indices[i]} ({i}/{len(indices)})\")\n",
    "        print(f\"\\tminimum = {minimum}\")\n",
    "        print(f\"\\tmaximum = {maximum}\")\n",
    "        print(f\"\\tmean    = {mean}\")\n",
    "        print(f\"\\tstddev  = {stddev}\")\n",
    "\n",
    "        # Plotting feature\n",
    "        z = 1\n",
    "        r = (minimum, maximum) #(max(minimum, mean - z*stddev), min(maximum, mean + z*stddev))\n",
    "        b = 50\n",
    "        counts, bins = np.histogram(feature, b, r)\n",
    "        plt.hist(bins[:-1], bins, weights=counts)\n",
    "        plt.show()\n",
    "    return indices"
   ]
  },
  {
   "cell_type": "code",
   "execution_count": 129,
   "metadata": {},
   "outputs": [
    {
     "name": "stdout",
     "output_type": "stream",
     "text": [
      "[7, 11, 18]\n",
      "\tindex   = 7 (0/3)\n",
      "\tminimum = -46.8\n",
      "\tmaximum = 5158.56\n",
      "\tmean    = 227.4208608742004\n",
      "\tstddev  = 133.28979038798735\n"
     ]
    },
    {
     "data": {
      "image/png": "[encoded data removed]",
      "text/plain": [
       "<Figure size 432x288 with 1 Axes>"
      ]
     },
     "metadata": {
      "needs_background": "light"
     },
     "output_type": "display_data"
    },
    {
     "name": "stdout",
     "output_type": "stream",
     "text": [
      "\tindex   = 11 (1/3)\n",
      "\tminimum = 0.0\n",
      "\tmaximum = 7.0\n",
      "\tmean    = 3.5014392324093815\n",
      "\tstddev  = 2.0301840792305095\n"
     ]
    },
    {
     "data": {
      "image/png": "[encoded data removed]",
      "text/plain": [
       "<Figure size 432x288 with 1 Axes>"
      ]
     },
     "metadata": {
      "needs_background": "light"
     },
     "output_type": "display_data"
    },
    {
     "name": "stdout",
     "output_type": "stream",
     "text": [
      "\tindex   = 18 (2/3)\n",
      "\tminimum = 0.0\n",
      "\tmaximum = 1700883.0\n",
      "\tmean    = 100773.228195629\n",
      "\tstddev  = 101736.23273456427\n"
     ]
    },
    {
     "data": {
      "image/png": "[encoded data removed]",
      "text/plain": [
       "<Figure size 432x288 with 1 Axes>"
      ]
     },
     "metadata": {
      "needs_background": "light"
     },
     "output_type": "display_data"
    }
   ],
   "source": [
    "indices0 = analysis(X0)"
   ]
  },
  {
   "cell_type": "code",
   "execution_count": 130,
   "metadata": {},
   "outputs": [
    {
     "name": "stdout",
     "output_type": "stream",
     "text": [
      "[11, 18]\n",
      "\tindex   = 11 (0/2)\n",
      "\tminimum = 0.01\n",
      "\tmaximum = 7.0\n",
      "\tmean    = 3.5209098338327425\n",
      "\tstddev  = 2.0191439912524283\n"
     ]
    },
    {
     "data": {
      "image/png": "[encoded data removed]",
      "text/plain": [
       "<Figure size 432x288 with 1 Axes>"
      ]
     },
     "metadata": {
      "needs_background": "light"
     },
     "output_type": "display_data"
    },
    {
     "name": "stdout",
     "output_type": "stream",
     "text": [
      "\tindex   = 18 (1/2)\n",
      "\tminimum = 0.0\n",
      "\tmaximum = 1271328.0\n",
      "\tmean    = 96605.65107327704\n",
      "\tstddev  = 102157.94815457465\n"
     ]
    },
    {
     "data": {
      "image/png": "[encoded data removed]",
      "text/plain": [
       "<Figure size 432x288 with 1 Axes>"
      ]
     },
     "metadata": {
      "needs_background": "light"
     },
     "output_type": "display_data"
    }
   ],
   "source": [
    "indices1 = analysis(X1)"
   ]
  },
  {
   "cell_type": "markdown",
   "metadata": {},
   "source": [
    "## Distributions for continuous features"
   ]
  },
  {
   "cell_type": "markdown",
   "metadata": {},
   "source": [
    "Some of the values that are \"continuous\" are continuous because of a few non-integer entries. To deal with this, we initialy had a process so that if 90% of the data points are integer valued entries then the data will round them to make them discrete distributions. Upond furthur inspection, this led to only a handful of features that were continuous. Because of this, instead, all data will be rounded to its nearest integer value. "
   ]
  },
  {
   "cell_type": "markdown",
   "metadata": {},
   "source": [
    "## Correcting data"
   ]
  },
  {
   "cell_type": "code",
   "execution_count": 136,
   "metadata": {},
   "outputs": [],
   "source": [
    "X0 = X0.round()\n",
    "X1 = X1.round()"
   ]
  },
  {
   "cell_type": "markdown",
   "metadata": {},
   "source": [
    "## Reviewing Continuous Data"
   ]
  },
  {
   "cell_type": "code",
   "execution_count": 137,
   "metadata": {},
   "outputs": [
    {
     "name": "stdout",
     "output_type": "stream",
     "text": [
      "[7, 11, 18]\n",
      "\tindex   = 7 (0/3)\n",
      "\tminimum = -47.0\n",
      "\tmaximum = 5159.0\n",
      "\tmean    = 227.51839019189765\n",
      "\tstddev  = 133.270572535794\n"
     ]
    },
    {
     "data": {
      "image/png": "[encoded data removed]",
      "text/plain": [
       "<Figure size 432x288 with 1 Axes>"
      ]
     },
     "metadata": {
      "needs_background": "light"
     },
     "output_type": "display_data"
    },
    {
     "name": "stdout",
     "output_type": "stream",
     "text": [
      "\tindex   = 11 (1/3)\n",
      "\tminimum = 0.0\n",
      "\tmaximum = 7.0\n",
      "\tmean    = 3.5005330490405115\n",
      "\tstddev  = 2.060647561465846\n"
     ]
    },
    {
     "data": {
      "image/png": "[encoded data removed]",
      "text/plain": [
       "<Figure size 432x288 with 1 Axes>"
      ]
     },
     "metadata": {
      "needs_background": "light"
     },
     "output_type": "display_data"
    },
    {
     "name": "stdout",
     "output_type": "stream",
     "text": [
      "\tindex   = 18 (2/3)\n",
      "\tminimum = 0.0\n",
      "\tmaximum = 1700883.0\n",
      "\tmean    = 100773.22707889126\n",
      "\tstddev  = 101736.2266572239\n"
     ]
    },
    {
     "data": {
      "image/png": "[encoded data removed]",
      "text/plain": [
       "<Figure size 432x288 with 1 Axes>"
      ]
     },
     "metadata": {
      "needs_background": "light"
     },
     "output_type": "display_data"
    },
    {
     "data": {
      "text/plain": [
       "[7, 11, 18]"
      ]
     },
     "execution_count": 137,
     "metadata": {},
     "output_type": "execute_result"
    }
   ],
   "source": [
    "analysis(X0, indices0)"
   ]
  },
  {
   "cell_type": "code",
   "execution_count": 138,
   "metadata": {},
   "outputs": [
    {
     "name": "stdout",
     "output_type": "stream",
     "text": [
      "[11, 18]\n",
      "\tindex   = 11 (0/2)\n",
      "\tminimum = 0.0\n",
      "\tmaximum = 7.0\n",
      "\tmean    = 3.5170253336965405\n",
      "\tstddev  = 2.057249667956533\n"
     ]
    },
    {
     "data": {
      "image/png": "[encoded data removed]",
      "text/plain": [
       "<Figure size 432x288 with 1 Axes>"
      ]
     },
     "metadata": {
      "needs_background": "light"
     },
     "output_type": "display_data"
    },
    {
     "name": "stdout",
     "output_type": "stream",
     "text": [
      "\tindex   = 18 (1/2)\n",
      "\tminimum = 0.0\n",
      "\tmaximum = 1271328.0\n",
      "\tmean    = 96605.65867611005\n",
      "\tstddev  = 102157.94504800015\n"
     ]
    },
    {
     "data": {
      "image/png": "[encoded data removed]",
      "text/plain": [
       "<Figure size 432x288 with 1 Axes>"
      ]
     },
     "metadata": {
      "needs_background": "light"
     },
     "output_type": "display_data"
    },
    {
     "data": {
      "text/plain": [
       "[11, 18]"
      ]
     },
     "execution_count": 138,
     "metadata": {},
     "output_type": "execute_result"
    }
   ],
   "source": [
    "analysis(X1, indices1)"
   ]
  },
  {
   "cell_type": "markdown",
   "metadata": {},
   "source": [
    "## Getting Ready for Training"
   ]
  },
  {
   "cell_type": "code",
   "execution_count": 140,
   "metadata": {},
   "outputs": [],
   "source": [
    "X = X.round()\n",
    "Xtr, Xva, Ytr, Yva = ml.splitData(X, Y, 0.75)"
   ]
  },
  {
   "cell_type": "markdown",
   "metadata": {},
   "source": [
    "## Training and Validation"
   ]
  },
  {
   "cell_type": "markdown",
   "metadata": {},
   "source": [
    "Set up the training and validation data"
   ]
  },
  {
   "cell_type": "code",
   "execution_count": 161,
   "metadata": {
    "pycharm": {
     "name": "#%%\n"
    }
   },
   "outputs": [
    {
     "name": "stdout",
     "output_type": "stream",
     "text": [
      "Prob Y=0: 0.5054560150882392\n",
      "Prob Y=1: 0.49454398491176077\n"
     ]
    }
   ],
   "source": [
    "# Training Data\n",
    "Xtr0 = Xtr[Ytr == 0, :]\n",
    "Xtr1 = Xtr[Ytr == 1, :]\n",
    "P_Y1 = sum(Y)/len(Y)\n",
    "P_Y0 = 1 - P_Y1\n",
    "\n",
    "print(f\"Prob Y=0: {P_Y0}\")\n",
    "print(f\"Prob Y=1: {P_Y1}\")\n",
    "\n",
    "# Validation Data\n",
    "Xva0 = Xva[Yva == 0, :]\n",
    "Xva1 = Xva[Yva == 1, :]"
   ]
  },
  {
   "cell_type": "code",
   "execution_count": 166,
   "metadata": {},
   "outputs": [
    {
     "name": "stdout",
     "output_type": "stream",
     "text": [
      "Accuracy = 0.5102370689655172\n"
     ]
    }
   ],
   "source": [
    "XvaGuess = []\n",
    "for i,row in enumerate(Xva):\n",
    "    # Calculate P(X|Y=0) and P(X|Y=1)\n",
    "    p0 = []\n",
    "    p1 = []\n",
    "    for j,value in enumerate(row):\n",
    "        # count every time that value shows up in the Xtr_i for that specific\n",
    "        # feature, and divide that by the number of data points we searched \n",
    "        # through to get the probabilites\n",
    "        p_0 = sum(1 for k in Xtr0[:, j] if value==k)/Xtr0[:, j].shape[0]\n",
    "        p_1 = sum(1 for k in Xtr1[:, j] if value==k)/Xtr1[:, j].shape[0]\n",
    "        \n",
    "        # if something had probability 0 of occuring, we will have ln(0) which\n",
    "        # is undefined so we instead just make a random guess to avoid this \n",
    "        if p_0 == 0 or p_1 == 0:\n",
    "            XvaGuess.append(round(np.random.uniform(0, 1)))\n",
    "            break\n",
    "        \n",
    "        # non-zero probabilities, keep them!!\n",
    "        p0.append(p_0)\n",
    "        p1.append(p_1)\n",
    "        \n",
    "    else:\n",
    "        # We had no nonzero probabilities, we can safely make a prediction!\n",
    "        XvaGuess.append(0 if np.log(P_Y0) + sum(np.log(np.array(p0))) > np.log(P_Y1) + sum(np.log(np.array(p1))) else 1)\n",
    "\n",
    "# Score this approach\n",
    "XvaGuess = np.array(XvaGuess)\n",
    "print(f\"Accuracy = {sum( (XvaGuess == Yva).astype(int) )/len(Yva)}\")"
   ]
  },
  {
   "cell_type": "code",
   "execution_count": 193,
   "metadata": {},
   "outputs": [
    {
     "name": "stdout",
     "output_type": "stream",
     "text": [
      "Accuracy = 0.5005387931034483\n"
     ]
    }
   ],
   "source": [
    "XvaGuess = []\n",
    "binaryf = [i for i,feature in enumerate(X.T) if all(j==0 or j==1 for j in feature)]\n",
    "\n",
    "for i,row in enumerate(Xva):\n",
    "    p0 = []\n",
    "    p1 = []\n",
    "    for j,value in enumerate(binaryf):\n",
    "        p_0 = sum(1 for k in Xtr0[:, j] if value==k)/Xtr0[:, j].shape[0] + sum(1 for k in Xtr1[:, j] if value!=k)/Xtr1[:, j].shape[0]\n",
    "        p_1 = sum(1 for k in Xtr1[:, j] if value==k)/Xtr1[:, j].shape[0] + sum(1 for k in Xtr0[:, j] if value!=k)/Xtr0[:, j].shape[0]\n",
    "        \n",
    "        if p_0 == 0 or p_1 == 0:\n",
    "            XvaGuess.append(round(np.random.uniform(0, 1)))\n",
    "            break\n",
    "            \n",
    "        p0.append(p_0)\n",
    "        p1.append(p_1)\n",
    "    else:\n",
    "        XvaGuess.append(0 if np.log(P_Y0) + sum(np.log(np.array(p0))) > np.log(P_Y1) + sum(np.log(np.array(p1))) else 1)\n",
    "        \n",
    "XvaGuess = np.array(XvaGuess)\n",
    "print(f\"Accuracy = {sum( (XvaGuess == Yva).astype(int) )/len(Yva)}\")"
   ]
  },
  {
   "cell_type": "code",
   "execution_count": 194,
   "metadata": {},
   "outputs": [],
   "source": [
    "# THIS DOESNT WORK\n",
    "\n",
    "# gaus = ml.bayes.gaussClassify(Xtr[:30, :], Ytr[:30])\n",
    "# XvaGuess = gaus.predictSoft(Xva[:30])\n",
    "# print(f\"Accuracy: {sum((XvaGuess.round() == Yva).astype(int))/len(Yva)}\")"
   ]
  },
  {
   "cell_type": "markdown",
   "metadata": {},
   "source": [
    "## Predictions for Kaggle"
   ]
  },
  {
   "cell_type": "code",
   "execution_count": 175,
   "metadata": {},
   "outputs": [],
   "source": [
    "# Is result 2 from the records below.\n",
    "\n",
    "Xte = np.genfromtxt(\"data/X_test.txt\",delimiter=',')\n",
    "P_Y1 = sum(Y)/len(Y)\n",
    "P_Y0 = 1 - P_Y1\n",
    "\n",
    "XteGuess = []\n",
    "for i,row in enumerate(Xte):\n",
    "    # Calculate P(X|Y=0) and P(X|Y=1)\n",
    "    p0 = []\n",
    "    p1 = []\n",
    "    for j,value in enumerate(row):\n",
    "        # count every time that value shows up in the Xtr_i for that specific\n",
    "        # feature, and divide that by the number of data points we searched \n",
    "        # through to get the probabilites\n",
    "        p_0 = sum(1 for k in X0[:, j] if value==k)/X0[:, j].shape[0]\n",
    "        p_1 = sum(1 for k in X1[:, j] if value==k)/X1[:, j].shape[0]\n",
    "        \n",
    "        # if something had probability 0 of occuring, we will have ln(0) which\n",
    "        # is undefined so we instead just make a random guess to avoid this \n",
    "        if p_0 == 0 or p_1 == 0:\n",
    "            XteGuess.append(round(np.random.uniform(0, 1)))\n",
    "            break\n",
    "        \n",
    "        # non-zero probabilities, keep them!!\n",
    "        p0.append(p_0)\n",
    "        p1.append(p_1)\n",
    "        \n",
    "    else:\n",
    "        # We had no nonzero probabilities, we can safely make a prediction!\n",
    "        XteGuess.append(0 if np.log(P_Y0) + sum(np.log(np.array(p0))) > np.log(P_Y1) + sum(np.log(np.array(p1))) else 1)\n",
    "\n",
    "with open(\"Y_submit.txt\", \"w\") as f:\n",
    "    f.write(\"ID,Predicted\\n\")\n",
    "    for i,g in enumerate(XteGuess):\n",
    "        f.write(f\"{i}, {g}\\n\")"
   ]
  },
  {
   "cell_type": "markdown",
   "metadata": {},
   "source": [
    "## Scores and Log"
   ]
  },
  {
   "cell_type": "markdown",
   "metadata": {},
   "source": [
    "(1) Score was 0.4994612068965517. This is using all the data and rounding all of the values together. There were some issues with taking the log of something with probability 0. Since this way of guessing has some issues with it, we will not be uploading predictions to Kaggle.\n",
    "\n",
    "(2) Score was 0.5102370689655172. This time, to avoid this undefined values if anything had probability 0 we would just make a random guess between class 0 and 1 instead of dealing with undefined behavious of log(0). This had a score on kaggle of 0.47851\n",
    "\n",
    "(3) Score was 0.5005387931034483. This was using only binary valued features. Since it has a lower score than that of the previous attempt, we will not be running it through Kaggle.\n",
    "\n",
    "(4) Score was unknown since gaussian wont work because of division by 0 error."
   ]
  },
  {
   "cell_type": "code",
   "execution_count": null,
   "metadata": {},
   "outputs": [],
   "source": []
  }
 ],
 "metadata": {
  "kernelspec": {
   "display_name": "Python 3",
   "language": "python",
   "name": "python3"
  },
  "language_info": {
   "codemirror_mode": {
    "name": "ipython",
    "version": 3
   },
   "file_extension": ".py",
   "mimetype": "text/x-python",
   "name": "python",
   "nbconvert_exporter": "python",
   "pygments_lexer": "ipython3",
   "version": "3.7.4"
  },
  "pycharm": {
   "stem_cell": {
    "cell_type": "raw",
    "metadata": {
     "collapsed": false
    },
    "source": []
   }
  }
 },
 "nbformat": 4,
 "nbformat_minor": 1
}
